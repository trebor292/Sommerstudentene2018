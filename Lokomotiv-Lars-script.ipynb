{
 "cells": [
  {
   "cell_type": "code",
   "execution_count": 1,
   "metadata": {},
   "outputs": [],
   "source": [
    "from arcgis.gis import GIS\n",
    "from IPython.display import display\n",
    "import random\n",
    "gis = GIS(\"http://geodata.maps.arcgis.com\", \"student_morten\", \"SomStud2018\")"
   ]
  },
  {
   "cell_type": "code",
   "execution_count": 2,
   "metadata": {
    "collapsed": true
   },
   "outputs": [],
   "source": [
    "# searches for Dovrebanen feature layer where the train will run\n",
    "search_result = gis.content.search('title:Dovrebanen_Points', item_type = \"Feature Layer\")\n",
    "dovre_layer = search_result[0].layers\n",
    "dovre_flayer = dovre_layer[0]\n",
    "dovre_features = dovre_layer[0].query()"
   ]
  },
  {
   "cell_type": "code",
   "execution_count": 3,
   "metadata": {
    "collapsed": true
   },
   "outputs": [],
   "source": [
    "# search for the train object and the layer to add warnings to\n",
    "search_result = gis.content.search('title:Moving_Trains', item_type = \"Feature Layer\")\n",
    "train_layer = search_result[0].layers\n",
    "train_flayer = train_layer[0]\n",
    "\n",
    "search_result = gis.content.search('title:Dovrebanen_Warning', item_type = \"Feature Layer\")\n",
    "warning_layer = search_result[0].layers\n",
    "warning_flayer = warning_layer[0]"
   ]
  },
  {
   "cell_type": "code",
   "execution_count": 4,
   "metadata": {},
   "outputs": [],
   "source": [
    "def remove_all_warnings():\n",
    "    # Makes sure no warning is shown at the start of the script\n",
    "    for warning in warning_layer[0].query().features:\n",
    "        warning_flayer.edit_features(deletes=str(warning.attributes[\"OBJECTID\"]))\n",
    "\n",
    "    warning_index1 = 360\n",
    "    warning_index2 = 600\n",
    "\n",
    "    warning1 = dovre_features.features[warning_index1]\n",
    "    warning1.attributes[\"OBJECTID\"] = 1\n",
    "\n",
    "    warning2 = dovre_features.features[warning_index2]\n",
    "    warning2.attributes[\"OBJECTID\"] = 2"
   ]
  },
  {
   "cell_type": "code",
   "execution_count": null,
   "metadata": {},
   "outputs": [],
   "source": [
    "def moving_train():\n",
    "    # scripts starts before Tangen station\n",
    "    start = 200\n",
    "    end = 440\n",
    "    index = start\n",
    "    \n",
    "    warning_index1 = 313\n",
    "    warning_index2 = 330\n",
    "\n",
    "    warning1 = dovre_features.features[warning_index1]\n",
    "    warning1.attributes[\"OBJECTID\"] = 1\n",
    "\n",
    "    warning2 = dovre_features.features[warning_index2]\n",
    "    warning2.attributes[\"OBJECTID\"] = 2\n",
    "    \n",
    "    while True:\n",
    "        if index == 280:\n",
    "            warning_flayer.edit_features(adds=[warning1])\n",
    "        if index == warning_index2-20:\n",
    "            warning_flayer.edit_features(adds=[warning2])\n",
    "        \n",
    "        tfo_feature = dovre_features.features[index]\n",
    "        tfo_feature.attributes[\"OBJECTID\"] = 1\n",
    "        update_result = train_flayer.edit_features(updates=[tfo_feature])                    \n",
    "        \n",
    "        # Controls how fast the train goes each 6 seconds\n",
    "        if index < 260 or index > 360:\n",
    "            index += 40\n",
    "        elif index <= 280 or index > warning_index2+10:\n",
    "            index += 20\n",
    "        else:\n",
    "            index += 5\n",
    "        \n",
    "        time.sleep(6)\n",
    "\n",
    "        # hacks to remove the first warning before the seconds one\n",
    "        if index >= warning_index1+10 or index >= warning_index2+10:\n",
    "            for warning in warning_layer[0].query().features:\n",
    "                warning_flayer.edit_features(deletes=str(warning.attributes[\"OBJECTID\"]))\n",
    "                break\n",
    "       \n",
    "    # Resets script\n",
    "        if index > end:\n",
    "            index = start\n",
    "            for warning in warning_layer[0].query().features:\n",
    "                warning_flayer.edit_features(deletes=str(warning.attributes[\"OBJECTID\"]))"
   ]
  },
  {
   "cell_type": "code",
   "execution_count": null,
   "metadata": {},
   "outputs": [],
   "source": [
    "# Starts the scripts\n",
    "remove_all_warnings()\n",
    "moving_train()"
   ]
  }
 ],
 "metadata": {
  "kernelspec": {
   "display_name": "Python 3",
   "language": "python",
   "name": "python3"
  },
  "language_info": {
   "codemirror_mode": {
    "name": "ipython",
    "version": 3
   },
   "file_extension": ".py",
   "mimetype": "text/x-python",
   "name": "python",
   "nbconvert_exporter": "python",
   "pygments_lexer": "ipython3",
   "version": "3.6.2"
  }
 },
 "nbformat": 4,
 "nbformat_minor": 2
}
