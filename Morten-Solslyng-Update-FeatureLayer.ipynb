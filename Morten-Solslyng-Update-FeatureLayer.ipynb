{
 "cells": [
  {
   "cell_type": "code",
   "execution_count": 70,
   "metadata": {},
   "outputs": [],
   "source": [
    "import pandas as pd\n",
    "from arcgis.gis import GIS\n",
    "import arcpy\n",
    "from IPython.display import display\n",
    "from arcgis.features import SpatialDataFrame\n",
    "import time\n",
    "import random\n",
    "gis = GIS(\"http://geodata.maps.arcgis.com\", \"student_morten\", \"SomStud2018\")"
   ]
  },
  {
   "cell_type": "code",
   "execution_count": 13,
   "metadata": {},
   "outputs": [],
   "source": [
    "data_50km = []\n",
    "data_10km = []\n",
    "data_1km = []\n",
    "\n",
    "with arcpy.da.SearchCursor(\"c:/Users/student/Desktop/netCDF/BackupDB.gdb/BaneSegment_50km_output\", \"*\") as cursor:\n",
    "    for row in cursor:\n",
    "        data_50km.append(row)\n",
    "\n",
    "with arcpy.da.SearchCursor(\"c:/Users/student/Desktop/netCDF/BackupDB.gdb/BaneSegment_10km_output\", \"*\") as cursor:\n",
    "    for row in cursor:\n",
    "        data_10km.append(row)\n",
    "    \n",
    "with arcpy.da.SearchCursor(\"c:/Users/student/Desktop/netCDF/BackupDB.gdb/BaneSegment_1km_output\", \"*\") as cursor:\n",
    "    for row in cursor:\n",
    "        data_1km.append(row)\n",
    "        \n",
    "data_sets = [data_50km, data_10km, data_1km]"
   ]
  },
  {
   "cell_type": "code",
   "execution_count": 14,
   "metadata": {},
   "outputs": [
    {
     "data": {
      "text/plain": [
       "[<FeatureLayer url:\"https://services.arcgis.com/2JyTvMWQSnM2Vi8q/arcgis/rest/services/BaneSegment_50km_3timer/FeatureServer/0\">,\n",
       " <FeatureLayer url:\"https://services.arcgis.com/2JyTvMWQSnM2Vi8q/arcgis/rest/services/BaneSegment_10km_3timer/FeatureServer/0\">,\n",
       " <FeatureLayer url:\"https://services.arcgis.com/2JyTvMWQSnM2Vi8q/arcgis/rest/services/BaneSegment_1km_3timer/FeatureServer/0\">]"
      ]
     },
     "execution_count": 14,
     "metadata": {},
     "output_type": "execute_result"
    }
   ],
   "source": [
    "flayer_50km = gis.content.search('title:BaneSegment_50km_3timer', item_type = \"Feature Layer\")[0].layers[0]\n",
    "flayer_10km = gis.content.search('title:BaneSegment_10km_3timer', item_type = \"Feature Layer\")[0].layers[0]\n",
    "flayer_1km = gis.content.search('title:BaneSegment_1km_3timer', item_type = \"Feature Layer\")[0].layers[0]\n",
    "flayers = [flayer_50km, flayer_10km, flayer_1km]\n",
    "flayers"
   ]
  },
  {
   "cell_type": "code",
   "execution_count": 4,
   "metadata": {
    "collapsed": true
   },
   "outputs": [],
   "source": [
    "def predict_solslyng(row):\n",
    "    return 1"
   ]
  },
  {
   "cell_type": "code",
   "execution_count": 5,
   "metadata": {},
   "outputs": [],
   "source": [
    "#len(flayer_1km.query())\n",
    "data_1km # 5882\n",
    "\n",
    "dato1 = data_1km[0][7]\n",
    "dato2 = dato1 + pd.Timedelta('24 hours')\n",
    "dato2 = dato1 + pd.Timedelta('48 hours')\n"
   ]
  },
  {
   "cell_type": "code",
   "execution_count": 22,
   "metadata": {},
   "outputs": [
    {
     "data": {
      "text/plain": [
       "datetime.datetime(2018, 7, 10, 0, 0)"
      ]
     },
     "execution_count": 22,
     "metadata": {},
     "output_type": "execute_result"
    }
   ],
   "source": [
    "data_50km[0][2]"
   ]
  },
  {
   "cell_type": "code",
   "execution_count": 62,
   "metadata": {},
   "outputs": [],
   "source": [
    "def update_layer(lines, data):\n",
    "    i = 0\n",
    "    counter = 0\n",
    "    for line in lines.features:\n",
    "        line.attributes[\"time\"] = str(data[0][2] + pd.Timedelta('{} hours'.format(i)))\n",
    "        line.attributes[\"solslyng_prediction\"] = predict_solslyng(line)\n",
    "        flayer_50km.edit_features(updates=[line])\n",
    "        counter += 1\n",
    "        if counter == 567: #5882 : \n",
    "            i += 24\n",
    "            counter = 0  \n",
    "    return lines"
   ]
  },
  {
   "cell_type": "code",
   "execution_count": 63,
   "metadata": {},
   "outputs": [],
   "source": [
    "l = update_layer(flayer_50km.query(), data_50km) \n",
    "\n",
    "#flayer_50km.edit_features(updates=l)"
   ]
  },
  {
   "cell_type": "code",
   "execution_count": null,
   "metadata": {},
   "outputs": [],
   "source": [
    "start = time.time()\n",
    "for data, flayer in zip(data_sets, flayers):\n",
    "    l = update_layer(flayer.query(), data) \n",
    "    flayer.edit_features(updates=l)\n",
    "end = time.time()\n",
    "print(\"Complete time: {}\".format(end-start))"
   ]
  },
  {
   "cell_type": "code",
   "execution_count": null,
   "metadata": {
    "collapsed": true
   },
   "outputs": [],
   "source": []
  },
  {
   "cell_type": "code",
   "execution_count": null,
   "metadata": {
    "collapsed": true
   },
   "outputs": [],
   "source": [
    "#sdf = SpatialDataFrame.from_featureclass(file_10km)\n",
    "sdf = '2018-07-09 22:00:00'\n",
    "lines = flayer_10km.query(where='OBJECTID <= 10')\n",
    "counter = 0\n",
    "start = 0\n",
    "end = 10\n",
    "size = 10\n",
    "\n",
    "while start < 63580:\n",
    "    lines = flayer_10km.query(where='OBJECTID >= {} AND OBJECTID <= {}'.format(start, end))\n",
    "    for line in lines.features:\n",
    "        line.attributes[\"time\"] = sdf\n",
    "        line.attributes[\"solslyng_prediction\"] = 0\n",
    "        counter += 1\n",
    "    start = end+1\n",
    "    end = end+size\n",
    "    flayer_10km.edit_features(updates=lines)\n",
    "    break"
   ]
  },
  {
   "cell_type": "code",
   "execution_count": null,
   "metadata": {},
   "outputs": [],
   "source": [
    "#air_temperature_2m,std_air_temperature_2m,cloud_area_fraction,std_cloud_area_fraction,relative_humidity_2m,std_relative_humidity_2m,low_type_cloud_area_fraction,std_low_type_cloud_area_fraction,high_type_cloud_area_fraction,std_high_type_cloud_area_fraction,precipitation_amount_acc,std_precipitation_amount_acc\n",
    "\n",
    "sdf_50km"
   ]
  },
  {
   "cell_type": "code",
   "execution_count": 65,
   "metadata": {},
   "outputs": [
    {
     "name": "stdout",
     "output_type": "stream",
     "text": [
      "6\n"
     ]
    }
   ],
   "source": [
    "print(randint(0, 9))"
   ]
  },
  {
   "cell_type": "code",
   "execution_count": 77,
   "metadata": {},
   "outputs": [
    {
     "data": {
      "text/plain": [
       "0.5971325063343463"
      ]
     },
     "execution_count": 77,
     "metadata": {},
     "output_type": "execute_result"
    }
   ],
   "source": [
    "random.uniform(0.0, 0.6)"
   ]
  },
  {
   "cell_type": "code",
   "execution_count": 66,
   "metadata": {},
   "outputs": [
    {
     "name": "stdout",
     "output_type": "stream",
     "text": [
      "4\n"
     ]
    }
   ],
   "source": [
    "print(randint(0, 9))"
   ]
  },
  {
   "cell_type": "code",
   "execution_count": 68,
   "metadata": {},
   "outputs": [
    {
     "ename": "NameError",
     "evalue": "name 'randdouble' is not defined",
     "output_type": "error",
     "traceback": [
      "\u001b[1;31m---------------------------------------------------------------------------\u001b[0m",
      "\u001b[1;31mNameError\u001b[0m                                 Traceback (most recent call last)",
      "\u001b[1;32m<ipython-input-68-9ef444cebf9a>\u001b[0m in \u001b[0;36m<module>\u001b[1;34m()\u001b[0m\n\u001b[1;32m----> 1\u001b[1;33m \u001b[0mprint\u001b[0m\u001b[1;33m(\u001b[0m\u001b[0mranddouble\u001b[0m\u001b[1;33m(\u001b[0m\u001b[1;36m0\u001b[0m\u001b[1;33m,\u001b[0m \u001b[1;36m1\u001b[0m\u001b[1;33m)\u001b[0m\u001b[1;33m)\u001b[0m\u001b[1;33m\u001b[0m\u001b[0m\n\u001b[0m",
      "\u001b[1;31mNameError\u001b[0m: name 'randdouble' is not defined"
     ]
    }
   ],
   "source": [
    "print(randdouble(0, 1))"
   ]
  },
  {
   "cell_type": "code",
   "execution_count": null,
   "metadata": {
    "collapsed": true
   },
   "outputs": [],
   "source": []
  }
 ],
 "metadata": {
  "kernelspec": {
   "display_name": "Python 3",
   "language": "python",
   "name": "python3"
  },
  "language_info": {
   "codemirror_mode": {
    "name": "ipython",
    "version": 3
   },
   "file_extension": ".py",
   "mimetype": "text/x-python",
   "name": "python",
   "nbconvert_exporter": "python",
   "pygments_lexer": "ipython3",
   "version": "3.6.2"
  }
 },
 "nbformat": 4,
 "nbformat_minor": 2
}
